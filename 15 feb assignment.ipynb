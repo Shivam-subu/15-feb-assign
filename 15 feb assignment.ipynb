{
 "cells": [
  {
   "cell_type": "markdown",
   "id": "b43c7324-b4b1-4c2d-8ff6-0be806f519ad",
   "metadata": {},
   "source": []
  },
  {
   "cell_type": "markdown",
   "id": "26d9a9d7-c32c-411b-abf4-b1946446d554",
   "metadata": {},
   "source": [
    "Q1. What is multiprocessing in python? Why is it useful?\n",
    "Ans. Multiprocessing refers to the ability to run multiple processes concurrently. A process is an instance of a program that is executing independently, with its own memory space. Python's multiprocessing module provides a way to create and manage multiple processes, allowing you to harness the power of multiple CPUs or cores on your machine.\n",
    "\n",
    "The multiprocessing module offers several features and benefits:\n",
    "\n",
    "1. Parallel Execution: By utilizing multiple processes, you can execute tasks in parallel, taking advantage of multiple CPU cores. This can significantly speed up the execution of CPU-intensive tasks and improve overall performance.\n",
    "\n",
    "2. Improved Responsiveness: By running tasks in separate processes, you can prevent a single long-running task from blocking the execution of other parts of your program. This helps ensure that your application remains responsive and can continue performing other tasks concurrently.\n",
    "\n",
    "3. Utilizing Multiple CPU Cores: With multiprocessing, you can fully utilize the available CPU cores on your machine, enabling you to handle computationally intensive tasks more efficiently. This is particularly beneficial for tasks such as data processing, scientific computations, or simulations.\n",
    "\n",
    "4. Fault Isolation: Running tasks in separate processes provides a level of fault isolation. If one process encounters an error or crashes, it does not affect the execution of other processes. This improves the robustness and stability of your application.\n",
    "\n",
    "5. Flexibility and Scalability: The multiprocessing module provides a flexible and scalable approach to parallel programming. You can create multiple processes, distribute tasks among them, and coordinate their execution using various synchronization mechanisms.\n",
    "\n",
    "Overall, multiprocessing in Python allows you to leverage the full potential of your machine's hardware by running tasks concurrently, improving performance, responsiveness, and scalability of your applications."
   ]
  },
  {
   "cell_type": "markdown",
   "id": "c613a7e2-237f-483d-84f0-280baa2c1548",
   "metadata": {},
   "source": [
    "Q2. What are the differences between multiprocessing and multithreading?\n",
    "Ans.Multithreading runs multiple threads simultaneously within a single process, while multiprocessing runs multiple processes simultaneously within a single thread."
   ]
  },
  {
   "cell_type": "markdown",
   "id": "739d4ebb-cb91-422f-9f74-6a82ba8ac85c",
   "metadata": {},
   "source": [
    "Q3. Write a python code to create a process using the multiprocessing module."
   ]
  },
  {
   "cell_type": "code",
   "execution_count": 2,
   "id": "fd2ec428-59f7-4f33-88ea-788d5a3aace1",
   "metadata": {},
   "outputs": [
    {
     "name": "stdout",
     "output_type": "stream",
     "text": [
      "This is running in a child process\n",
      "This is running in the main process\n"
     ]
    }
   ],
   "source": [
    "import multiprocessing\n",
    "\n",
    "def my_process():\n",
    "    # Code to be executed in the child process\n",
    "    print(\"This is running in a child process\")\n",
    "\n",
    "if __name__ == \"__main__\":\n",
    "    # Create a Process object and target the function you want to run\n",
    "    process = multiprocessing.Process(target=my_process)\n",
    "    \n",
    "    # Start the process\n",
    "    process.start()\n",
    "    \n",
    "    # Wait for the process to finish\n",
    "    process.join()\n",
    "\n",
    "    # The main process continues execution here\n",
    "    print(\"This is running in the main process\")\n",
    "\n"
   ]
  },
  {
   "cell_type": "markdown",
   "id": "b1c38ad8-0807-407e-9cb6-c57f47acdb26",
   "metadata": {},
   "source": [
    "In this code, we define a function `my_process()` which will be executed in the child process. We use the `multiprocessing.Process` class to create a `Process` object, specifying the target function as `my_process`.\n",
    "\n",
    "The `if __name__ == \"__main__\":` condition is a necessary safeguard when using the `multiprocessing` module on Windows, ensuring that the code is only executed when running the script as the main module.\n",
    "\n",
    "We start the process using `process.start()`, which will spawn a new process and execute the `my_process()` function in that child process.\n",
    "\n",
    "After starting the process, we use `process.join()` to wait for the child process to finish its execution. This will block the main process until the child process completes.\n",
    "\n",
    "Finally, we print a message to indicate that the code is running in the main process.\n"
   ]
  },
  {
   "cell_type": "markdown",
   "id": "9969eb58-77aa-46a5-a93b-041ec44536f0",
   "metadata": {},
   "source": [
    "Q4. What is a multiprocessing pool in python? Why is it used?"
   ]
  },
  {
   "cell_type": "markdown",
   "id": "ad070a06-eba3-4b78-9cdb-bd3d6ff238d5",
   "metadata": {},
   "source": [
    "multiprocessing pool refers to a collection of worker processes that can be used to parallelize the execution of a function across multiple inputs. The multiprocessing pool is provided by the multiprocessing.Pool class.\n",
    "\n",
    "Using a multiprocessing pool offers several benefits:\n",
    "\n",
    "Parallel Execution: By distributing the workload among multiple worker processes, a pool enables parallel execution of a function on different inputs. This can lead to significant performance improvements, especially for computationally intensive or time-consuming tasks.\n",
    "\n",
    "Resource Management: The multiprocessing pool handles the creation, management, and distribution of worker processes, abstracting away the complexities of managing processes manually. It optimizes resource allocation, taking advantage of the available CPU cores and efficiently utilizing system resources.\n",
    "\n",
    "Simplified Interface: The map() and imap() methods provided by the pool abstract away the details of inter-process communication and synchronization. You can focus on defining the function to apply and the inputs to process, without dealing with lower-level multiprocessing primitives.\n",
    "\n",
    "Load Balancing: The pool evenly distributes the inputs across the worker processes, automatically load balancing the workload. This ensures that each worker process receives a roughly equal amount of work, maximizing the utilization of available resources.\n",
    "\n"
   ]
  },
  {
   "cell_type": "markdown",
   "id": "dd576816-212f-4379-aa23-23319a48c251",
   "metadata": {},
   "source": [
    "Q5. How can we create a pool of worker processes in python using the multiprocessing module?\n",
    "ans."
   ]
  },
  {
   "cell_type": "markdown",
   "id": "b4329ba6-6b56-4b75-adbe-af313be6d12a",
   "metadata": {},
   "source": [
    "To create a pool of worker processes in Python using the `multiprocessing` module, you can follow these steps:\n",
    "\n",
    "1. Import the `multiprocessing` module:\n",
    "```python\n",
    "import multiprocessing\n",
    "```\n",
    "\n",
    "2. Define a function that you want to apply to multiple inputs. This function will be executed by the worker processes in the pool. Let's call it `my_function` for this example:\n",
    "```python\n",
    "def my_function(input):\n",
    "    # Code to be executed on each input\n",
    "    # ...\n",
    "    return result\n",
    "```\n",
    "\n",
    "3. Create a `Pool` object by instantiating the `multiprocessing.Pool` class and specifying the desired number of worker processes. For example, to create a pool with four worker processes:\n",
    "```python\n",
    "pool = multiprocessing.Pool(processes=4)\n",
    "```\n",
    "\n",
    "4. Use the `map()` method of the `Pool` object to apply the function to a list of inputs. The `map()` method distributes the inputs across the worker processes and returns the results in the same order as the inputs. For example:\n",
    "```python\n",
    "inputs = [1, 2, 3, 4, 5]\n",
    "results = pool.map(my_function, inputs)\n",
    "```\n",
    "Note that the `map()` method blocks until all the worker processes have completed their tasks and returns the results as a list.\n",
    "\n",
    "5. Optionally, you can close the pool to prevent any more tasks from being submitted:\n",
    "```python\n",
    "pool.close()\n",
    "```\n",
    "\n",
    "6. Finally, you can call the `join()` method to wait for all the worker processes to complete:\n",
    "```python\n",
    "pool.join()\n",
    "```\n",
    "This ensures that the main process waits for the worker processes to finish before proceeding.\n",
    "\n",
    "Here's a complete example that demonstrates creating a pool of worker processes and applying a function to multiple inputs:\n",
    "\n",
    "```python\n",
    "import multiprocessing\n",
    "\n",
    "def my_function(input):\n",
    "    # Code to be executed on each input\n",
    "    # ...\n",
    "    return result\n",
    "\n",
    "if __name__ == \"__main__\":\n",
    "    inputs = [1, 2, 3, 4, 5]\n",
    "    \n",
    "    pool = multiprocessing.Pool(processes=4)\n",
    "    results = pool.map(my_function, inputs)\n",
    "    pool.close()\n",
    "    pool.join()\n",
    "    \n",
    "    # Process the results\n",
    "    for result in results:\n",
    "        print(result)\n",
    "```\n",
    "\n",
    "In this example, the `my_function` function will be executed in parallel by the worker processes in the pool for each input in the `inputs` list. The results are stored in the `results` list, which can be further processed or utilized as needed.\n",
    "\n",
    "Remember to use the `if __name__ == \"__main__\":` condition to protect the code from being executed on Windows platforms without this safeguard."
   ]
  },
  {
   "cell_type": "markdown",
   "id": "d7480449-2962-4d0b-959a-9e2fc8f1d314",
   "metadata": {},
   "source": [
    "Q6. Write a python program to create 4 processes, each process should print a different number using the\n",
    "multiprocessing module in python.\n",
    "Ans."
   ]
  },
  {
   "cell_type": "code",
   "execution_count": 3,
   "id": "f96b4d90-ec2c-4d82-a289-3b855ac6e753",
   "metadata": {},
   "outputs": [
    {
     "name": "stdout",
     "output_type": "stream",
     "text": [
      "1\n",
      "2\n",
      "3\n",
      "4\n"
     ]
    }
   ],
   "source": [
    "import multiprocessing\n",
    "\n",
    "def print_number(number):\n",
    "    print(number)\n",
    "\n",
    "if __name__ == \"__main__\":\n",
    "    numbers = [1, 2, 3, 4]\n",
    "\n",
    "    processes = []\n",
    "    for number in numbers:\n",
    "        process = multiprocessing.Process(target=print_number, args=(number,))\n",
    "        processes.append(process)\n",
    "        process.start()\n",
    "\n",
    "    for process in processes:\n",
    "        process.join()\n"
   ]
  },
  {
   "cell_type": "code",
   "execution_count": null,
   "id": "edc256a1-c565-4945-8f2c-aef9c176689e",
   "metadata": {},
   "outputs": [],
   "source": []
  },
  {
   "cell_type": "code",
   "execution_count": null,
   "id": "5bbb7305-0965-418c-8a8b-f9e4cb2d7904",
   "metadata": {},
   "outputs": [],
   "source": []
  },
  {
   "cell_type": "code",
   "execution_count": null,
   "id": "930ac084-df38-4a73-b5e2-1069b59bf3cc",
   "metadata": {},
   "outputs": [],
   "source": []
  },
  {
   "cell_type": "code",
   "execution_count": null,
   "id": "95d3f4cb-fe41-4160-88b1-0b69d4b856cf",
   "metadata": {},
   "outputs": [],
   "source": []
  }
 ],
 "metadata": {
  "kernelspec": {
   "display_name": "Python 3 (ipykernel)",
   "language": "python",
   "name": "python3"
  },
  "language_info": {
   "codemirror_mode": {
    "name": "ipython",
    "version": 3
   },
   "file_extension": ".py",
   "mimetype": "text/x-python",
   "name": "python",
   "nbconvert_exporter": "python",
   "pygments_lexer": "ipython3",
   "version": "3.10.8"
  }
 },
 "nbformat": 4,
 "nbformat_minor": 5
}
